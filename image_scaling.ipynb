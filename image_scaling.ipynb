{
  "nbformat": 4,
  "nbformat_minor": 0,
  "metadata": {
    "colab": {
      "provenance": [],
      "authorship_tag": "ABX9TyNqv2oJ9fZMSCKAkSCT7izb",
      "include_colab_link": true
    },
    "kernelspec": {
      "name": "python3",
      "display_name": "Python 3"
    },
    "language_info": {
      "name": "python"
    }
  },
  "cells": [
    {
      "cell_type": "markdown",
      "metadata": {
        "id": "view-in-github",
        "colab_type": "text"
      },
      "source": [
        "<a href=\"https://colab.research.google.com/github/pankajboruah/image-scaling/blob/master/image_scaling.ipynb\" target=\"_parent\"><img src=\"https://colab.research.google.com/assets/colab-badge.svg\" alt=\"Open In Colab\"/></a>"
      ]
    },
    {
      "cell_type": "code",
      "execution_count": 1,
      "metadata": {
        "colab": {
          "base_uri": "https://localhost:8080/"
        },
        "id": "7xw42pJpFv3_",
        "outputId": "d462a303-6619-48f8-d5ee-121d22c453c2"
      },
      "outputs": [
        {
          "output_type": "stream",
          "name": "stdout",
          "text": [
            "Collecting rasterio\n",
            "  Downloading rasterio-1.3.8-cp310-cp310-manylinux_2_17_x86_64.manylinux2014_x86_64.whl (21.3 MB)\n",
            "\u001b[2K     \u001b[90m━━━━━━━━━━━━━━━━━━━━━━━━━━━━━━━━━━━━━━━━\u001b[0m \u001b[32m21.3/21.3 MB\u001b[0m \u001b[31m64.2 MB/s\u001b[0m eta \u001b[36m0:00:00\u001b[0m\n",
            "\u001b[?25hCollecting affine (from rasterio)\n",
            "  Downloading affine-2.4.0-py3-none-any.whl (15 kB)\n",
            "Requirement already satisfied: attrs in /usr/local/lib/python3.10/dist-packages (from rasterio) (23.1.0)\n",
            "Requirement already satisfied: certifi in /usr/local/lib/python3.10/dist-packages (from rasterio) (2023.5.7)\n",
            "Requirement already satisfied: click>=4.0 in /usr/local/lib/python3.10/dist-packages (from rasterio) (8.1.4)\n",
            "Requirement already satisfied: cligj>=0.5 in /usr/local/lib/python3.10/dist-packages (from rasterio) (0.7.2)\n",
            "Requirement already satisfied: numpy>=1.18 in /usr/local/lib/python3.10/dist-packages (from rasterio) (1.22.4)\n",
            "Collecting snuggs>=1.4.1 (from rasterio)\n",
            "  Downloading snuggs-1.4.7-py3-none-any.whl (5.4 kB)\n",
            "Requirement already satisfied: click-plugins in /usr/local/lib/python3.10/dist-packages (from rasterio) (1.1.1)\n",
            "Requirement already satisfied: setuptools in /usr/local/lib/python3.10/dist-packages (from rasterio) (67.7.2)\n",
            "Requirement already satisfied: pyparsing>=2.1.6 in /usr/local/lib/python3.10/dist-packages (from snuggs>=1.4.1->rasterio) (3.1.0)\n",
            "Installing collected packages: snuggs, affine, rasterio\n",
            "Successfully installed affine-2.4.0 rasterio-1.3.8 snuggs-1.4.7\n"
          ]
        }
      ],
      "source": [
        "!pip install rasterio\n",
        "import rasterio"
      ]
    },
    {
      "cell_type": "code",
      "source": [
        "img = rasterio.open(\"/content/vh (9).tif\")\n",
        "img1 = img.read(1)\n",
        "img1\n"
      ],
      "metadata": {
        "colab": {
          "base_uri": "https://localhost:8080/"
        },
        "id": "0Rv4Jy1yGGo3",
        "outputId": "c82df69a-fd28-4e7f-d272-c7498050a33b"
      },
      "execution_count": 5,
      "outputs": [
        {
          "output_type": "execute_result",
          "data": {
            "text/plain": [
              "array([[0.        , 0.        , 0.        , ..., 0.00843901, 0.00843901,\n",
              "        0.00791587],\n",
              "       [0.        , 0.        , 0.        , ..., 0.0129651 , 0.00356262,\n",
              "        0.00356262],\n",
              "       [0.        , 0.        , 0.        , ..., 0.0151982 , 0.01109896,\n",
              "        0.00337014],\n",
              "       ...,\n",
              "       [0.        , 0.        , 0.        , ..., 0.00962693, 0.01011064,\n",
              "        0.01133282],\n",
              "       [0.        , 0.        , 0.        , ..., 0.00897377, 0.01019939,\n",
              "        0.01019939],\n",
              "       [0.        , 0.        , 0.        , ..., 0.00897377, 0.01177733,\n",
              "        0.01865439]], dtype=float32)"
            ]
          },
          "metadata": {},
          "execution_count": 5
        }
      ]
    },
    {
      "cell_type": "code",
      "source": [
        "def convert_to_scaled_tiff(src, dest):\n",
        "    ## convert tiff to 0-255 tiff\n",
        "    import rasterio\n",
        "    # Load the input TIFF file\n",
        "    with rasterio.open(src) as src:\n",
        "        # Read the data\n",
        "        data = src.read()\n",
        "        # Scale the data to the range of 0 to 255\n",
        "        scaled_data = (data - data.min()) * (255.0 / (data.max() - data.min()))\n",
        "        # Convert the data type to uint8\n",
        "        scaled_data = scaled_data.astype('uint8')\n",
        "        # Update the profile metadata with the new data type\n",
        "        profile = src.profile.copy()\n",
        "        profile.update(dtype='uint8')\n",
        "        # Save the scaled data to a new TIFF file\n",
        "        with rasterio.open(dest, 'w', **profile) as dst:\n",
        "            dst.write(scaled_data)\n",
        "convert_to_scaled_tiff(\"./vh (9).tif\", \"convertedFile.tif\")"
      ],
      "metadata": {
        "id": "O5HUBOQq4qHu"
      },
      "execution_count": 10,
      "outputs": []
    },
    {
      "cell_type": "code",
      "source": [
        "import numpy as np\n",
        "np.min(img1), np.max(img1), np.size(img1)\n"
      ],
      "metadata": {
        "colab": {
          "base_uri": "https://localhost:8080/"
        },
        "id": "At3qZb-4Gh2x",
        "outputId": "4f220fa2-b358-4da0-9ea5-61c56dc0a387"
      },
      "execution_count": 16,
      "outputs": [
        {
          "output_type": "execute_result",
          "data": {
            "text/plain": [
              "(0, 255, 65536)"
            ]
          },
          "metadata": {},
          "execution_count": 16
        }
      ]
    },
    {
      "cell_type": "code",
      "source": [
        "img = rasterio.open(\"convertedFile.tif\")\n",
        "img1 = img.read(1)\n",
        "img1"
      ],
      "metadata": {
        "colab": {
          "base_uri": "https://localhost:8080/"
        },
        "id": "mKLzZldP5dHo",
        "outputId": "4ac60340-e3c1-472e-aa10-5cec98615ed9"
      },
      "execution_count": 11,
      "outputs": [
        {
          "output_type": "execute_result",
          "data": {
            "text/plain": [
              "array([[ 0,  0,  0, ..., 15, 15, 14],\n",
              "       [ 0,  0,  0, ..., 24,  6,  6],\n",
              "       [ 0,  0,  0, ..., 28, 20,  6],\n",
              "       ...,\n",
              "       [ 0,  0,  0, ..., 18, 19, 21],\n",
              "       [ 0,  0,  0, ..., 16, 19, 19],\n",
              "       [ 0,  0,  0, ..., 16, 22, 35]], dtype=uint8)"
            ]
          },
          "metadata": {},
          "execution_count": 11
        }
      ]
    },
    {
      "cell_type": "code",
      "source": [
        "img.meta"
      ],
      "metadata": {
        "colab": {
          "base_uri": "https://localhost:8080/"
        },
        "id": "JxrSt0cFIQzV",
        "outputId": "2187ddbb-3076-4a8e-e7e6-dceae30de9eb"
      },
      "execution_count": null,
      "outputs": [
        {
          "output_type": "execute_result",
          "data": {
            "text/plain": [
              "{'driver': 'GTiff',\n",
              " 'dtype': 'float32',\n",
              " 'nodata': None,\n",
              " 'width': 256,\n",
              " 'height': 256,\n",
              " 'count': 1,\n",
              " 'crs': CRS.from_epsg(3857),\n",
              " 'transform': Affine(9.554628535639495, 0.0, 7927437.077512201,\n",
              "        0.0, -9.55462853564677, 3397473.0332195144)}"
            ]
          },
          "metadata": {},
          "execution_count": 6
        }
      ]
    },
    {
      "cell_type": "code",
      "source": [
        "3.0/2.2"
      ],
      "metadata": {
        "colab": {
          "base_uri": "https://localhost:8080/"
        },
        "id": "07SaTRIUE-Yf",
        "outputId": "07426fa7-ba37-4bf2-9a77-aa8f77f49097"
      },
      "execution_count": 9,
      "outputs": [
        {
          "output_type": "execute_result",
          "data": {
            "text/plain": [
              "1.3636363636363635"
            ]
          },
          "metadata": {},
          "execution_count": 9
        }
      ]
    }
  ]
}